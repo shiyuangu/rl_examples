{
 "cells": [
  {
   "cell_type": "code",
   "execution_count": 3,
   "metadata": {},
   "outputs": [],
   "source": [
    "# Sutton's book Chapter 5: Blackjack with Monte Carlo Exploring Start\n",
    "import random\n",
    "import numpy as np\n",
    "from scipy.stats import beta\n",
    "import matplotlib.pyplot as plt\n",
    "\n",
    "DECK_OF_CARDS = [1,2,3,4,5,6,7,8,9,10,10,10,10] * 4 #J, Q, K count as 10.\n",
    "DEALDER_STICK_THRESHOLD = 17 # same as Sutton's and Vega's rule: https://www.youtube.com/watch?v=SWdPf21v5Ak\n",
    "\n",
    "def sum_hand(hand):\n",
    "    min_s = sum(hand)\n",
    "    max_s = sum(hand)\n",
    "    if 1 in hand:\n",
    "        max_s = min_s  + 10\n",
    "    if max_s <= 21 and max_s > min_s:\n",
    "        ## Has a usable ACE.\n",
    "        return (max_s, 1)\n",
    "    else:\n",
    "        return (min_s, 0)\n",
    "    \n",
    "def busted(hand):\n",
    "    (s, _) = sum_hand(hand)\n",
    "    return s > 21    \n",
    "    \n",
    "def convert_cards_to_state(my_cards, dealer_card):\n",
    "    (s, usable_ace) = sum_hand(my_cards)\n",
    "    # state is 0-based, for easy indexing with ndarray.\n",
    "    return (s-1, dealer_card-1, usable_ace)"
   ]
  },
  {
   "cell_type": "code",
   "execution_count": 212,
   "metadata": {},
   "outputs": [],
   "source": [
    "class BasePlayer(object):\n",
    "    # Return 1 if hit, 0 if stick.\n",
    "    def action(self, cards, rival_card):\n",
    "        raise NotImplementedError(\"action() is not implemented.\")\n",
    "\n",
    "class Dealer(BasePlayer):\n",
    "    def __init__(self):\n",
    "        self.stick_threshold = DEALDER_STICK_THRESHOLD\n",
    "    def action(self, cards):\n",
    "        (s, _) = sum_hand(cards) #s>=1 \n",
    "        return int(self.stick_threshold > s) #stick for 17 or greater, same as Sutton's "
   ]
  },
  {
   "cell_type": "code",
   "execution_count": 5,
   "metadata": {},
   "outputs": [],
   "source": [
    "class Policy(object):\n",
    "    def __init__(self):\n",
    "        # stats is a 5D tensor. \n",
    "        # The first 3 dimensions describe state. The 4th dimension describes\n",
    "        # action (0 for stick, 1 for hit). The 5th dimension describes the\n",
    "        # reward: {-1, 0, 1}.\n",
    "        # self.states[i][j][k][a][r] saves counts of how many times we have\n",
    "        # reward `r` when we take action `a` for state s = (i, j, k) (s is 0-based).\n",
    "        self.stats = np.zeros((21, 10, 2, 2, 3), dtype='int64') # Init to 1 instead of 0 to smooth out.\n",
    "        # q is a 4D tensor that represents q(s, a).\n",
    "        self.q = np.zeros((21, 10, 2, 2), dtype='float64')\n",
    "        # pi is a 4D tensor that represents pi(a|s), last dimension is the action\n",
    "        self.pi = np.zeros((21, 10, 2, 2), dtype='float64')\n",
    "        #pi[:,:,:,1] is the probability of hit while pi[:,:,:,0] is the probability of stick\n",
    "        self.pi[0:11,:,:,:] = [0., 1.] #Always hit if the cards sum to [1,11]; note that this part of pi should never get updated\n",
    "        self.pi[11:19,:,:,:]=[0.,1.] #same as Sutton's initial policy, hit if [12,19]; stick if 20,21\n",
    "        self.pi[19,:,:,:] = [1., 0.] \n",
    "        \n",
    "    def update(self, state_action_seq, final_reward):\n",
    "        #update q(s,a) snd pi(a|s) using the episode(ie., state_action_seq) and the reward \n",
    "        #For blackjack, the states in the state_action_seq are all different; first visit MC and every visit MC are the same\n",
    "        for state_action in state_action_seq:  \n",
    "            (i,j,k,a) = state_action #i=sum(play_cards), 0<=i<=20, 0<=j<=9, k=0 or 1,  \n",
    "            # reward is in {-1, 0, 1}    \n",
    "            self.stats[i,j,k,a,final_reward + 1] += 1\n",
    "            # q stores average reward so far.\n",
    "            # Denominator is the # of samples; the numerator is the net reward accumulated from +1 and -1 cases.\n",
    "            self.q[i,j,k,a] = (self.stats[i,j,k,a,2] - self.stats[i,j,k,a,0]) * 1.0 / np.sum(self.stats[i,j,k,a,:])\n",
    "                        \n",
    "            #greedy update pi(a|s) based on estimated q(s,a)\n",
    "            if i <= 10:\n",
    "                # No update: we always hit.\n",
    "                continue\n",
    "            if i == 20:\n",
    "                # No update: we always stick.\n",
    "                continue                     \n",
    "            # If q[i,i,k,0] > q[i,j,k,1], argsort returns [1,0].            \n",
    "            self.pi[i,j,k,:] = np.argsort(self.q[i,j,k,:]) \n",
    "  \n",
    "    def action(self, state):#greedy \n",
    "        return np.argmax(self.pi[state])\n",
    "    \n",
    "    # Visualize matrix as a grayscale image, assuming entries are in [0,1].\n",
    "    def imshow(self, ax, matrix, title):\n",
    "        ax.set_title(title)\n",
    "        ax.imshow(matrix, cmap='gray',vmin=0., vmax=1.)        \n",
    "\n",
    "        ax.set_xlabel('Dealer Card')\n",
    "        ax.set_xticks(np.arange(10))\n",
    "        ax.set_xticklabels(np.arange(1,11,1).astype('S2'))\n",
    "        \n",
    "        ax.set_ylabel('Player Card')\n",
    "        ax.set_yticks(np.arange(9))\n",
    "        ax.set_yticklabels(np.arange(20,11,-1).astype('S2'))\n",
    "        \n",
    "        ax.spines['right'].set_color('none')\n",
    "        ax.spines['top'].set_color('none')      \n",
    "    \n",
    "    # Visualize the hard decision matrix and the soft (Bayesian) decision matrix.\n",
    "    def visualize(self):\n",
    "        fig = plt.figure(figsize=(12, 9), dpi=80)\n",
    "        \n",
    "        usable_ace = 0\n",
    "        ax = plt.subplot(221)\n",
    "        decision = (self.pi[11:20,:,usable_ace,1] > self.pi[11:20,:,usable_ace,0]).astype(int)\n",
    "        self.imshow(ax, np.flipud(decision), 'Decision (No usable Ace)')\n",
    "        \n",
    "        ax = plt.subplot(222)\n",
    "        bayesian_decision = self.bayesian_decision(0)\n",
    "        self.imshow(ax, bayesian_decision, 'Bayesian Decision (No usable Ace)')\n",
    "        \n",
    "        usable_ace = 1\n",
    "        ax = plt.subplot(223)\n",
    "        decision = (self.pi[11:,:,usable_ace,1] > self.pi[11:,:,usable_ace,0]).astype(int)\n",
    "        self.imshow(ax, np.flipud(decision), 'Decision (with usable Ace)')\n",
    "\n",
    "        ax = plt.subplot(224)\n",
    "        bayesian_decision = self.bayesian_decision(usable_ace)\n",
    "        self.imshow(ax, bayesian_decision, 'Bayesian Decision (with usable Ace)')\n",
    "\n",
    "        plt.show()\n"
   ]
  },
  {
   "cell_type": "code",
   "execution_count": 78,
   "metadata": {},
   "outputs": [],
   "source": [
    "class PolicyPlayer(BasePlayer):\n",
    "    def __init__(self, policy):\n",
    "        self.policy = policy\n",
    "        self.state_action_pairs = []\n",
    "        \n",
    "    def action(self, cards, rival_card,a=None):\n",
    "        s = convert_cards_to_state(cards, rival_card) #s is 0-based \n",
    "        if a is None: \n",
    "            a = self.policy.action(s)\n",
    "        (i,j,k) = s  # \n",
    "        self.state_action_pairs.append((i,j,k,a))\n",
    "        return a\n",
    "    \n",
    "    #def update_policy(self, reward): #this combines the policy evaulation and improvement step;  \n",
    "       # self.policy.update(self.state_action_pairs, reward)\n",
    "    def reset_states(self):\n",
    "        self.state_action_pairs = []"
   ]
  },
  {
   "cell_type": "code",
   "execution_count": 79,
   "metadata": {},
   "outputs": [],
   "source": [
    "# A simple debugger (to avoid clutter in main code.)\n",
    "class Dbg(object):\n",
    "    # level can be 0 or 1. (0 means silent.)\n",
    "    def __init__(self, level):\n",
    "        self.level = level\n",
    "    def print_hands(self, game):\n",
    "        if self.level == 0:\n",
    "            return\n",
    "        print 'dealer cards: ', game.dealer_cards \n",
    "        print 'player cards: ', game.player_cards\n",
    "        \n",
    "    def print_hand(self,cards):\n",
    "        if self.level == 0:\n",
    "            return\n",
    "        print 'cards: ', cards \n",
    "        \n",
    "    def on_dealer_action(self, action):\n",
    "        if self.level == 0:\n",
    "            return\n",
    "        print 'dealer action: ', action\n",
    "    def on_player_action(self, action):\n",
    "        if self.level == 0:\n",
    "            return\n",
    "        print 'player action: ', action\n",
    "    def print_bust_status(self, dealer, player):\n",
    "        if self.level == 0:\n",
    "            return\n",
    "        if player and dealer:\n",
    "            print 'both busted'\n",
    "        elif player:\n",
    "            print 'player busted'\n",
    "        elif dealer:\n",
    "            print 'dealer busted'\n",
    "        else:\n",
    "            pass\n",
    "    def print_sum_of_hands(self, dealer_sum, player_sum):\n",
    "        if self.level == 0:\n",
    "            return\n",
    "        print 'dealer sum: {}, player sum: {}'.format(dealer_sum, player_sum)\n",
    "        "
   ]
  },
  {
   "cell_type": "code",
   "execution_count": 215,
   "metadata": {},
   "outputs": [],
   "source": [
    "class Game(object):\n",
    "    \"\"\"\n",
    "    Blackjack shoe game as in https://www.youtube.com/watch?v=SWdPf21v5Ak\n",
    "    \"\"\"\n",
    "    def __init__(self, dealer, player, debug_level=0):\n",
    "        self.dealer = dealer\n",
    "        self.player = player\n",
    "        self.cards = DECK_OF_CARDS[:]\n",
    "        #random.shuffle(self.cards) #Sutton assumes infinite cards. Use sample with replacement  instead. \n",
    "        self.dbg = Dbg(debug_level)\n",
    "        \n",
    "    def on_player_action(self, action):\n",
    "        if action == 1:\n",
    "           #Sutton assumes infinite cards.\n",
    "            self.player_cards.extend(np.random.choice(self.cards,size=1))\n",
    "        self.dbg.on_player_action(action)\n",
    "    def on_dealer_action(self, action):\n",
    "        if action == 1:\n",
    "            self.dealer_cards.extend(np.random.choice(self.cards,size=1))\n",
    "        self.dbg.on_dealer_action(action)\n",
    "        \n",
    "    # Returns 1 iff player wins.    \n",
    "    def play(self,dealer_init_cards, player_init_cards, a):\n",
    "        \"\"\"\n",
    "        each play generates an episode starting from state the initial states and action \n",
    "        dealer_init_cards, player_init_cards: List[Int] of size 2; must be non-busted state; \n",
    "        a: player first action,  1 for hit ; 0 for stick, \n",
    "        return: 1 if the player wins, -1 if the player loses, 0 if draw\n",
    "        \"\"\" \n",
    "        self.player.reset_states() #reset the player's memory of state_action pair\n",
    "        self.dealer_cards = list(dealer_init_cards)\n",
    "        self.player_cards = list(player_init_cards)\n",
    "        \n",
    "        assert not busted(dealer_init_cards) and not busted(player_init_cards), \"Error: Invalid initial state!\"\n",
    "        \n",
    "        #player's turn\n",
    "        self.player.action(self.player_cards,self.dealer_cards[0],a)\n",
    "        while a:\n",
    "            self.on_player_action(a)  # update the states \n",
    "            if busted(self.player_cards): \n",
    "                return -1 \n",
    "            a = self.player.action(self.player_cards, self.dealer_cards[0])\n",
    "    \n",
    "        self.on_player_action(a)\n",
    "        \n",
    "        #dealer's turn\n",
    "        a = self.dealer.action(self.dealer_cards)   \n",
    "        while a:\n",
    "            self.on_dealer_action(a)  # update the states \n",
    "            if busted(self.dealer_cards): \n",
    "                return 1\n",
    "            a = self.dealer.action(self.dealer_cards) #dealer sticks to the same rule regardless of the player's cards\n",
    "            \n",
    "        #both dealer and player stick \n",
    "        d_sum, _ = sum_hand(self.dealer_cards)\n",
    "        p_sum, _ = sum_hand(self.player_cards)\n",
    "        return np.sign(p_sum - d_sum)\n",
    "        \n",
    "  "
   ]
  },
  {
   "cell_type": "code",
   "execution_count": 216,
   "metadata": {},
   "outputs": [],
   "source": [
    "class Learner:\n",
    "    def __init__(self):\n",
    "        self.player_policy = Policy()\n",
    "        self.player = PolicyPlayer(self.player_policy)\n",
    "        self.dealer = Dealer()\n",
    "        self.game = Game(self.dealer,self.player)\n",
    "    def train(self):\n",
    "        \"\"\"\n",
    "        learn the optimal policy by MC with exploring starts \n",
    "        return: optimal policy pi(a|s)\n",
    "        \"\"\"\n",
    "        np.random.seed(4)\n",
    "        max_iter = int(10)\n",
    "        for i in range(max_iter): \n",
    "            #dealer_init_cards = np.random.choice(self.game.cards,size=2,replace=True)\n",
    "            #player_init_cards = np.random.choice(self.game.cards,size=2, replace=True)\n",
    "            dealer_init_cards = np.array([10,2])\n",
    "            player_init_cards = np.array([10,3])\n",
    "            if not busted(dealer_init_cards) and not busted(player_init_cards):\n",
    "                for a in [0,1]:\n",
    "                    rt = self.game.play(dealer_init_cards, player_init_cards,a)\n",
    "                    self.player_policy.update(self.player.state_action_pairs,rt) \n",
    "                    print \"i=%d,a=%d,rt=%d,dealer_cards=%s,player_cards=%s, player_mem=%s\" % (i,a,rt,self.game.dealer_cards,self.game.player_cards,self.game.player.state_action_pairs)\n",
    "                    print \"\\t self.player_policy.stats[12,9,0,%d]:%s\" % (a,self.player_policy.stats[12,9,0,a])\n",
    "        return self.player_policy"
   ]
  },
  {
   "cell_type": "code",
   "execution_count": 217,
   "metadata": {
    "scrolled": true
   },
   "outputs": [
    {
     "name": "stdout",
     "output_type": "stream",
     "text": [
      "i=0,a=0,rt=-1,dealer_cards=[10, 2, 8],player_cards=[10, 3], player_mem=[(12, 9, 0, 0)]\n",
      "\t self.player_policy.stats[12,9,0,0]:[1 0 0]\n",
      "i=0,a=1,rt=1,dealer_cards=[10, 2, 2, 10],player_cards=[10, 3, 6, 2], player_mem=[(12, 9, 0, 1), (18, 9, 0, 1), (20, 9, 0, 0)]\n",
      "\t self.player_policy.stats[12,9,0,1]:[0 0 1]\n",
      "i=1,a=0,rt=-1,dealer_cards=[10, 2, 9],player_cards=[10, 3], player_mem=[(12, 9, 0, 0)]\n",
      "\t self.player_policy.stats[12,9,0,0]:[2 0 0]\n",
      "i=1,a=1,rt=-1,dealer_cards=[10, 2],player_cards=[10, 3, 10], player_mem=[(12, 9, 0, 1)]\n",
      "\t self.player_policy.stats[12,9,0,1]:[1 0 1]\n",
      "i=2,a=0,rt=1,dealer_cards=[10, 2, 10],player_cards=[10, 3], player_mem=[(12, 9, 0, 0)]\n",
      "\t self.player_policy.stats[12,9,0,0]:[2 0 1]\n",
      "i=2,a=1,rt=1,dealer_cards=[10, 2, 5],player_cards=[10, 3, 1, 7], player_mem=[(12, 9, 0, 1), (13, 9, 0, 1), (20, 9, 0, 0)]\n",
      "\t self.player_policy.stats[12,9,0,1]:[1 0 2]\n",
      "i=3,a=0,rt=1,dealer_cards=[10, 2, 2, 10],player_cards=[10, 3], player_mem=[(12, 9, 0, 0)]\n",
      "\t self.player_policy.stats[12,9,0,0]:[2 0 2]\n",
      "i=3,a=1,rt=-1,dealer_cards=[10, 2],player_cards=[10, 3, 10], player_mem=[(12, 9, 0, 1)]\n",
      "\t self.player_policy.stats[12,9,0,1]:[2 0 2]\n",
      "i=4,a=0,rt=-1,dealer_cards=[10, 2, 6],player_cards=[10, 3], player_mem=[(12, 9, 0, 0)]\n",
      "\t self.player_policy.stats[12,9,0,0]:[3 0 2]\n",
      "i=4,a=1,rt=-1,dealer_cards=[10, 2],player_cards=[10, 3, 10], player_mem=[(12, 9, 0, 1)]\n",
      "\t self.player_policy.stats[12,9,0,1]:[3 0 2]\n",
      "i=5,a=0,rt=-1,dealer_cards=[10, 2, 4, 4],player_cards=[10, 3], player_mem=[(12, 9, 0, 0)]\n",
      "\t self.player_policy.stats[12,9,0,0]:[4 0 2]\n",
      "i=5,a=1,rt=-1,dealer_cards=[10, 2],player_cards=[10, 3, 1, 9], player_mem=[(12, 9, 0, 1), (13, 9, 0, 1)]\n",
      "\t self.player_policy.stats[12,9,0,1]:[4 0 2]\n",
      "i=6,a=0,rt=-1,dealer_cards=[10, 2, 9],player_cards=[10, 3], player_mem=[(12, 9, 0, 0)]\n",
      "\t self.player_policy.stats[12,9,0,0]:[5 0 2]\n",
      "i=6,a=1,rt=-1,dealer_cards=[10, 2],player_cards=[10, 3, 10], player_mem=[(12, 9, 0, 1)]\n",
      "\t self.player_policy.stats[12,9,0,1]:[5 0 2]\n",
      "i=7,a=0,rt=1,dealer_cards=[10, 2, 10],player_cards=[10, 3], player_mem=[(12, 9, 0, 0)]\n",
      "\t self.player_policy.stats[12,9,0,0]:[5 0 3]\n",
      "i=7,a=1,rt=-1,dealer_cards=[10, 2],player_cards=[10, 3, 10], player_mem=[(12, 9, 0, 1)]\n",
      "\t self.player_policy.stats[12,9,0,1]:[6 0 2]\n",
      "i=8,a=0,rt=1,dealer_cards=[10, 2, 3, 8],player_cards=[10, 3], player_mem=[(12, 9, 0, 0)]\n",
      "\t self.player_policy.stats[12,9,0,0]:[5 0 4]\n",
      "i=8,a=1,rt=-1,dealer_cards=[10, 2],player_cards=[10, 3, 5, 9], player_mem=[(12, 9, 0, 1), (17, 9, 0, 1)]\n",
      "\t self.player_policy.stats[12,9,0,1]:[7 0 2]\n",
      "i=9,a=0,rt=1,dealer_cards=[10, 2, 10],player_cards=[10, 3], player_mem=[(12, 9, 0, 0)]\n",
      "\t self.player_policy.stats[12,9,0,0]:[5 0 5]\n",
      "i=9,a=1,rt=-1,dealer_cards=[10, 2],player_cards=[10, 3, 3, 10], player_mem=[(12, 9, 0, 1), (15, 9, 0, 1)]\n",
      "\t self.player_policy.stats[12,9,0,1]:[8 0 2]\n"
     ]
    }
   ],
   "source": [
    "learner = Learner()\n",
    "optimal_policy = learner.train()\n"
   ]
  },
  {
   "cell_type": "code",
   "execution_count": 140,
   "metadata": {},
   "outputs": [
    {
     "data": {
      "text/plain": [
       "(21, 10, 2, 2)"
      ]
     },
     "execution_count": 140,
     "metadata": {},
     "output_type": "execute_result"
    }
   ],
   "source": [
    "optimal_policy.pi.shape\n"
   ]
  },
  {
   "cell_type": "code",
   "execution_count": 192,
   "metadata": {},
   "outputs": [
    {
     "data": {
      "text/plain": [
       "array([[ 0.,  0.,  0.,  0.,  0.,  0.,  0.,  0.,  0.,  0.],\n",
       "       [ 0.,  0.,  0.,  0.,  0.,  0.,  0.,  0.,  0.,  1.],\n",
       "       [ 0.,  0.,  0.,  0.,  0.,  0.,  0.,  0.,  0.,  0.],\n",
       "       [ 0.,  0.,  0.,  0.,  0.,  0.,  0.,  0.,  0.,  0.],\n",
       "       [ 0.,  0.,  0.,  0.,  0.,  0.,  0.,  0.,  0.,  0.],\n",
       "       [ 0.,  0.,  0.,  0.,  0.,  0.,  0.,  0.,  0.,  0.],\n",
       "       [ 0.,  0.,  0.,  0.,  0.,  0.,  0.,  0.,  0.,  0.],\n",
       "       [ 0.,  0.,  0.,  0.,  0.,  0.,  0.,  0.,  0.,  0.],\n",
       "       [ 0.,  0.,  0.,  0.,  0.,  0.,  0.,  0.,  0.,  0.],\n",
       "       [ 0.,  0.,  0.,  0.,  0.,  0.,  0.,  0.,  0.,  0.]])"
      ]
     },
     "execution_count": 192,
     "metadata": {},
     "output_type": "execute_result"
    }
   ],
   "source": [
    "optimal_policy.pi[11:,:,0,1]"
   ]
  },
  {
   "cell_type": "code",
   "execution_count": null,
   "metadata": {},
   "outputs": [],
   "source": []
  },
  {
   "cell_type": "code",
   "execution_count": 190,
   "metadata": {},
   "outputs": [
    {
     "data": {
      "text/plain": [
       "(0.0, 1.0)"
      ]
     },
     "execution_count": 190,
     "metadata": {},
     "output_type": "execute_result"
    }
   ],
   "source": [
    "i,j,k = 12,9,0\n",
    "optimal_policy.pi[i,j,k,0], optimal_policy.pi[i,j,k,1]"
   ]
  },
  {
   "cell_type": "code",
   "execution_count": 193,
   "metadata": {},
   "outputs": [
    {
     "data": {
      "text/plain": [
       "array([-0.29866836, -0.38576631])"
      ]
     },
     "execution_count": 193,
     "metadata": {},
     "output_type": "execute_result"
    }
   ],
   "source": [
    "optimal_policy.q[i,j,k]"
   ]
  },
  {
   "cell_type": "code",
   "execution_count": 195,
   "metadata": {},
   "outputs": [
    {
     "data": {
      "text/plain": [
       "-0.02986683576410907"
      ]
     },
     "execution_count": 195,
     "metadata": {},
     "output_type": "execute_result"
    }
   ],
   "source": [
    "(21394-40234)*0.1/(40234+1452+21394)"
   ]
  },
  {
   "cell_type": "code",
   "execution_count": 191,
   "metadata": {},
   "outputs": [
    {
     "data": {
      "text/plain": [
       "(array([40234,  1452, 21394]), array([16779,  1452,  7033]))"
      ]
     },
     "execution_count": 191,
     "metadata": {},
     "output_type": "execute_result"
    }
   ],
   "source": [
    "optimal_policy.stats[i,j,k,0],optimal_policy.stats[i,j,k,1]"
   ]
  },
  {
   "cell_type": "code",
   "execution_count": 189,
   "metadata": {},
   "outputs": [
    {
     "data": {
      "text/plain": [
       "(158744, 72)"
      ]
     },
     "execution_count": 189,
     "metadata": {},
     "output_type": "execute_result"
    }
   ],
   "source": [
    "np.sum(optimal_policy.stats[11:,:,:,:,1]), np.sum(optimal_policy.stats[11:,:,:,0,1]==optimal_policy.stats[11:,:,:,1,1])"
   ]
  },
  {
   "cell_type": "code",
   "execution_count": 157,
   "metadata": {},
   "outputs": [],
   "source": [
    "optimal_policy.pi[i,j,k,:]=[0.0,1.0]"
   ]
  },
  {
   "cell_type": "code",
   "execution_count": 176,
   "metadata": {},
   "outputs": [
    {
     "data": {
      "text/plain": [
       "1"
      ]
     },
     "execution_count": 176,
     "metadata": {},
     "output_type": "execute_result"
    }
   ],
   "source": [
    "learner.game.prepare_new()\n",
    "learner.game.play([10,2],[10,3],1)"
   ]
  },
  {
   "cell_type": "code",
   "execution_count": 178,
   "metadata": {},
   "outputs": [
    {
     "data": {
      "text/plain": [
       "([10, 2, 6], [10, 3, 6])"
      ]
     },
     "execution_count": 178,
     "metadata": {},
     "output_type": "execute_result"
    }
   ],
   "source": [
    "learner.game.dealer_cards, learner.game.player_cards"
   ]
  },
  {
   "cell_type": "code",
   "execution_count": 179,
   "metadata": {},
   "outputs": [
    {
     "data": {
      "text/plain": [
       "[(12, 9, 0, 1), (18, 9, 0, 0)]"
      ]
     },
     "execution_count": 179,
     "metadata": {},
     "output_type": "execute_result"
    }
   ],
   "source": [
    "learner.player.state_action_pairs"
   ]
  },
  {
   "cell_type": "code",
   "execution_count": 127,
   "metadata": {},
   "outputs": [
    {
     "name": "stdout",
     "output_type": "stream",
     "text": [
      "a= [(20, 6, 0, 0)]\n"
     ]
    },
    {
     "data": {
      "text/plain": [
       "1"
      ]
     },
     "execution_count": 127,
     "metadata": {},
     "output_type": "execute_result"
    }
   ],
   "source": [
    "learner.game.prepare_new()\n",
    "play2(learner.game,[7,2],[10,7],1)\n",
    "#learner.game.play([9,5],[10,10],0)"
   ]
  },
  {
   "cell_type": "code",
   "execution_count": 126,
   "metadata": {},
   "outputs": [],
   "source": [
    "def play2(self,dealer_init_cards, player_init_cards, a):\n",
    "        \"\"\"\n",
    "        each play generates an episode starting from state the initial states and action \n",
    "        dealer_init_cards, player_init_cards: List[Int] of size 2; must be non-busted state; \n",
    "        a: player first action,  1 for hit ; 0 for stick, \n",
    "        return: 1 if the player wins, -1 if the player loses, 0 if draw\n",
    "        \"\"\" \n",
    "        self.dealer_cards = list(dealer_init_cards)\n",
    "        self.player_cards = list(player_init_cards)\n",
    "        \n",
    "        assert not busted(dealer_init_cards) and not busted(player_init_cards), \"Error: Invalid initial state!\"\n",
    "        \n",
    "        #player's turn\n",
    "        if a == 0: \n",
    "            #player memorize the action-state \n",
    "            self.player.action(self.player_cards,self.dealer_cards[0],a=0)\n",
    "        while a:\n",
    "            self.on_player_action(a)  # update the states \n",
    "            if busted(self.player_cards): \n",
    "                return -1 \n",
    "            a = self.player.action(self.player_cards, self.dealer_cards[0])\n",
    "            print 'a=',self.player.state_action_pairs\n",
    "    \n",
    "        self.on_player_action(a)\n",
    "        \n",
    "        #dealer's turn\n",
    "        a = self.dealer.action(self.dealer_cards, self.player_cards[0])   \n",
    "        while a:\n",
    "            self.on_dealer_action(a)  # update the states \n",
    "            if busted(self.dealer_cards): \n",
    "                return 1\n",
    "            a = self.dealer.action(self.player_cards, self.dealer_cards[0]) \n",
    "            \n",
    "        #both dealer and player stick \n",
    "        d_sum, _ = sum_hand(self.dealer_cards)\n",
    "        p_sum, _ = sum_hand(self.player_cards)\n",
    "        return np.sign(p_sum - d_sum)"
   ]
  },
  {
   "cell_type": "code",
   "execution_count": 128,
   "metadata": {},
   "outputs": [
    {
     "data": {
      "text/plain": [
       "[(20, 6, 0, 0)]"
      ]
     },
     "execution_count": 128,
     "metadata": {},
     "output_type": "execute_result"
    }
   ],
   "source": [
    "learner.game.player.state_action_pairs"
   ]
  },
  {
   "cell_type": "code",
   "execution_count": null,
   "metadata": {},
   "outputs": [],
   "source": []
  }
 ],
 "metadata": {
  "kernelspec": {
   "display_name": "Python 2",
   "language": "python",
   "name": "python2"
  },
  "language_info": {
   "codemirror_mode": {
    "name": "ipython",
    "version": 2
   },
   "file_extension": ".py",
   "mimetype": "text/x-python",
   "name": "python",
   "nbconvert_exporter": "python",
   "pygments_lexer": "ipython2",
   "version": "2.7.12"
  }
 },
 "nbformat": 4,
 "nbformat_minor": 2
}

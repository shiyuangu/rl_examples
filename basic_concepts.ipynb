{
 "cells": [
  {
   "cell_type": "markdown",
   "metadata": {},
   "source": [
    "# Fundamental Concepts\n",
    "\n",
    "## The Agent-Environment Interface\n",
    "The agent-enviroment interface can be summarized as a sequence $\\cdots S_tA_tR_{t+1}S_{t+1}A_{t+1}\\cdots$.\n",
    "\n",
    "The tuple $(S_t, A_t, R_{t+1}, S_{t+1}, A_{t+1})$ can be described as:\n",
    "1. At time $t$, the agent observes environment's state $S_t$ and takes action $A_t$;\n",
    "2. This action drives the environment to change its state to $S_{t+1}$, and the agent receives reward $R_{t+1}$ from the enviroment;\n",
    "3. The Agent takes action $A_{t+1}$ and the cycle continues.\n",
    "\n",
    "The agent's goal is to maximize its total reward in this process. \n",
    "- If the process is finite, we say the agent is doing episodic tasks, and the total reward is defined as $R_1 + \\ldots + R_T$.\n",
    "- If the process is infinite, we say the agent is doing continous task, and the total reward is defined as $R_1 + \\gamma R_2 + \\gamma^2 R_3 + \\ldots$, where $ 0 < \\gamma < 1 $ is a discount factor that ensures the sum is finite.\n",
    "\n",
    "For convenience, we use the unified notation $\\sum_{k}\\gamma^{k} R_{k+1}$, where $ 0 < \\gamma \\leq 1$, $\\gamma = 1$ iff for episodic tasks.\n",
    "\n",
    "Often, we are interesed in the return $G_t$, which is defined as the total reward after time $t$. This can be viewed as the feedback to the agent's action $A_t$ taken on state $S_t$. By definition, $G_t = R_{t+1} + \\gamma R_{t+2} + \\ldots$. Note the recurrsion relation $G_t = R_{t+1} + \\gamma G_{t+1}$.\n",
    "\n",
    "## Markov Property\n",
    "This says $S_{t+1}$ and $R_{t+1}$ only depends on $S_t, A_t$, but not on any earlier events.\n",
    "Thus we may write $P(S_{t+1}, R_{t+1} | S_t, A_t )$. Note we can further factorize this as $P(S_{t+1}, R_{t+1} | S_t, A_t ) = P(S_{t+1} | S_t, A_t) P(R_{t+1} | S_{t}, A_{t}, S_{t+1}).$ Note that $R_{t+1}$ has dependency on three variables. \n",
    "\n",
    "We can simplify the notation by writing $s, a, s'$ to denote $S_t, A_t, S_{t+1}$. Two more notations:\n",
    "- $p(s' | s, a)$ denotes the transition probablity $(s, a) \\rightarrow s' $\n",
    "- $r(s, a, s')$ denotes the expectation $\\mathbb{E}(R_{t+1} | S_{t} = s, A_{t} = a, S_{t+1} = s')$.\n",
    "\n",
    "## Value Functions, Bellman Equation\n",
    "We cannot talk about values without the policy. A policy maps the state to action. This can be deterministic or probabilistic. Usually, we denote the policy by $\\pi(s)$, sometimes it's a distribution $p(a|s)$. For deterministic policy, it's just a value.\n",
    "\n",
    "We can define value for a state or a state-action pair. Informally, the value of a state is the expected return when starting from $s$ and following $\\pi$ thereafter. The value of a state-pair is the expected return when starting from $s$ and take action $a$.\n",
    "$$v_{\\pi}(s) = \\mathbb{E}_{\\pi} (G_t | S_t = s )$$\n",
    "$$q_{\\pi}(s, a) = \\mathbb{E}_{\\pi}(G_t | S_t = s, A_t = a)$$\n",
    "The notation is a bit sloppy here: $t$ appears on the RHS but not on the LHS. So the LHS is really $v_{\\pi}(S_t = s)$ and $q_{\\pi}(S_t = s, A_t = a)$.\n",
    "\n",
    "\\begin{align}\n",
    "q(s, a) & = \\mathbb{E}[ G_t | s, a ] \\\\\n",
    "        & = \\mathbb{E}[ R_{t+1} + \\gamma G_{t+1} | s, a ] \\\\\n",
    "        & = \\sum_{s'} p(s' | s, a) \\mathbb{E} [R_{t+1} + \\gamma G_{t+1} | s, a, s'] \\\\\n",
    "        & = \\sum_{s'} p(s' | s, a) (r(s, a, s') + \\gamma v(s')) \\\\\n",
    "v(s)    & = \\sum_a p(a | s) q(s, a) \\\\\n",
    "        & = \\sum_a p(a | s) \\sum_{s'} p(s' | s, a) (r(s, a, s') + \\gamma v(s'))\n",
    "\\end{align}\n",
    "The last equation that reveals the recurssion relation of $v(s)$ and $v(s')$ is known as the Bellman equation.\n",
    "\n",
    "The Bellman equation has two implications:\n",
    "1. It expresses $v(s)$ as a solution of a linear system.\n",
    "2. It expresses $v(s)$ as a fixed point of a mapping. This suggests we can use iterative methods to solve for $v$. This gives the basic form of policy evaluation.\n",
    "\n",
    "## Optimal Value Functions\n",
    "There exists an optimal policy $\\pi_{*}$ such that for any other policy $\\pi$, we have $v_{\\pi_{*}}(s) \\geq v_{\\pi}(s), \\forall s \\in S$.\n",
    "\n",
    "\\begin{align}\n",
    "v_*(s)     & = \\max_{\\pi} v_{\\pi}(s) \\\\\n",
    "q_*(s, a)  & = \\max_{\\pi} q_{\\pi}(s, a)\n",
    "\\end{align}\n",
    "\n",
    "$v_*(s)$ satisfies the Bellman optimal equation. The derivation of the Bellman optimal equation is similar to the regular Bellman equation. The main difference is: $v_*(s) = \\max_a q(s, a)$ instead of averaging over the distribution $p(a|s)$.\n"
   ]
  },
  {
   "cell_type": "markdown",
   "metadata": {},
   "source": [
    "# Policy Iteration\n",
    "Policy iteration alternates between policy evaluation and policy improvement:\n",
    "- Start with an arbitrary policy $\\pi$.\n",
    "- In policy evaluation, we use an iterative method based on the Bellman equation to find $v(s)$. This gives us $q(s, a)$ too.\n",
    "- In policy improvment, we set $\\pi(s) = \\text{argmax}_a q(s, a)$.\n",
    "\n",
    "## Value Iteration\n",
    "Valute iteration is an approximation of policy iteration. In policy evaluation, we iterate until convergence. In value iteration, we only iterate once. \n",
    "\n",
    "This gives a special form of iteration:\n",
    "$$v(s) = \\max_a q(s, a) = \\max_a \\sum_{s'} p(s' | s, a) (r(s, a, s') + \\gamma v(s')) $$\n",
    "\n",
    "At the end of iteration, we output policy $\\pi(s) = \\text{argmax}_a q(s, a)$.\n",
    "\n",
    "### Valute Iteration Example (Gambler's Problem)\n",
    "A gambler bets on the outcome of a coin flip. If head, he wins the stake; otherwise, he loses the stake. The game ends if the gambler reaches \\$100 dollars or \\$0 dollars. The gabmler can only bet on integer amounts.\n",
    "\n",
    "The states are $\\{1, \\ldots, 99\\}$. For state $s$, availabe actions are betting from $\\{1, \\ldots, \\min \\{s, 100 - s\\} \\}$. We give +1 reward when we reach \\$100 and give zero reward for all other transitions. We set discount factor $\\gamma = 1$. With this setting, the value of each state (under a policy) is the winning probabiliy starting from that state. This is because $v(s) = \\mathbb{E}[G_t | s]$ and $G_t$ is either 0 or 1. Thus the expectation evaluates to the probability of winning.\n",
    "\n",
    "Let $p$ denote the probability of getting a head. Then we have transition $(s, a) \\rightarrow s + a$ with probability $p$ and $(s, a) \\rightarrow s - a$ with probability $1-p$. $r(s, a, s') = 1$ iff $s' = 100$.\n",
    "\n",
    "The value iteration is \n",
    "$$ v(s) = \\max_a [p (r(s, a, s + a) + v(s + a)) + (1-p) v(s-a)]$$\n"
   ]
  },
  {
   "cell_type": "code",
   "execution_count": 1,
   "metadata": {
    "collapsed": true
   },
   "outputs": [],
   "source": [
    "import numpy as np\n",
    "P_HEAD = 0.4\n",
    "WIN_STATE = 100\n",
    "EPSILON = 1e-10\n",
    "\n",
    "def r(s, a, s_prime):\n",
    "    return 1 if s_prime == WIN_STATE else 0\n",
    "\n",
    "# v[0..100]. v[0] and v[100] are held at 0.\n",
    "def value_iteration(v):\n",
    "    w = np.zeros(len(v))\n",
    "    for s in range(1, WIN_STATE, 1):\n",
    "        q = []\n",
    "        for a in range(1, min(s, 100 - s) + 1, 1):\n",
    "            qa = P_HEAD * (r(s, a, s + a) + v[s + a]) + (1 - P_HEAD) * v[s - a]\n",
    "            q.append(qa)\n",
    "        w[s] = max(q)\n",
    "    return w\n",
    "\n",
    "def solve(epsilon = EPSILON, max_iter = 1000):\n",
    "    v = np.zeros(WIN_STATE + 1)\n",
    "    for i in range(max_iter):\n",
    "        w = value_iteration(v)\n",
    "        delta = np.linalg.norm(w - v, np.inf)\n",
    "        v = w\n",
    "        if delta < epsilon:\n",
    "            print 'converged after {} iterations'.format(i+1)\n",
    "            break\n",
    "    return v\n",
    "\n",
    "def optimal_policy(v):\n",
    "    actions = []\n",
    "    for s in range(1, WIN_STATE, 1):\n",
    "        best_a, best_qa = 0, 0\n",
    "        for a in range(1, min(s, 100 - s) + 1, 1):\n",
    "            qa = P_HEAD * (r(s, a, s + a) + v[s + a]) + (1 - P_HEAD) * v[s - a]\n",
    "            ## A more robust max function (taking account of numerical errors)\n",
    "            if qa - best_qa > 1e-6:\n",
    "                best_qa = qa\n",
    "                best_a = a\n",
    "        actions.append(best_a)\n",
    "    return actions"
   ]
  },
  {
   "cell_type": "code",
   "execution_count": 2,
   "metadata": {
    "collapsed": false
   },
   "outputs": [
    {
     "name": "stdout",
     "output_type": "stream",
     "text": [
      "converged after 34 iterations\n"
     ]
    },
    {
     "data": {
      "image/png": "[encoded data removed]",
      "text/plain": [
       "<matplotlib.figure.Figure at 0x1040ac3d0>"
      ]
     },
     "metadata": {},
     "output_type": "display_data"
    }
   ],
   "source": [
    "%matplotlib inline\n",
    "import matplotlib\n",
    "import matplotlib.pyplot as plt\n",
    "\n",
    "w = solve()\n",
    "plt.plot(w[0:99]);\n",
    "plt.title('Value functions')\n",
    "plt.show()"
   ]
  },
  {
   "cell_type": "code",
   "execution_count": 3,
   "metadata": {
    "collapsed": false
   },
   "outputs": [
    {
     "data": {
      "text/plain": [
       "<matplotlib.text.Text at 0x105acf6d0>"
      ]
     },
     "execution_count": 3,
     "metadata": {},
     "output_type": "execute_result"
    },
    {
     "data": {
      "image/png": "[encoded data removed]",
      "text/plain": [
       "<matplotlib.figure.Figure at 0x105a63c50>"
      ]
     },
     "metadata": {},
     "output_type": "display_data"
    }
   ],
   "source": [
    "actions = optimal_policy(w)\n",
    "plt.bar(range(1, 100), actions)\n",
    "plt.title('Optimal actions')"
   ]
  }
 ],
 "metadata": {
  "kernelspec": {
   "display_name": "Python 2",
   "language": "python",
   "name": "python2"
  },
  "language_info": {
   "codemirror_mode": {
    "name": "ipython",
    "version": 2
   },
   "file_extension": ".py",
   "mimetype": "text/x-python",
   "name": "python",
   "nbconvert_exporter": "python",
   "pygments_lexer": "ipython2",
   "version": "2.7.11"
  }
 },
 "nbformat": 4,
 "nbformat_minor": 0
}
